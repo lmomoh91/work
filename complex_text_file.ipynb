{
 "cells": [
  {
   "cell_type": "code",
   "execution_count": 1,
   "metadata": {},
   "outputs": [],
   "source": [
    "import pandas as pd\n",
    "import numpy as np\n",
    "import dask.bag as db\n",
    "import dask.dataframe as frame\n",
    "import re"
   ]
  },
  {
   "cell_type": "code",
   "execution_count": 2,
   "metadata": {},
   "outputs": [],
   "source": [
    "lines = db.read_text(r\"C:\\Users\\hwe334\\OneDrive - Anadarko\\Python Scripts\\data\\example_2.txt\").str.strip('-').str.split('\\n')"
   ]
  },
  {
   "cell_type": "code",
   "execution_count": 3,
   "metadata": {},
   "outputs": [],
   "source": [
    "#convert dask bag to dask dataframe\n",
    "df = lines.to_dataframe().drop(1,axis=1)"
   ]
  },
  {
   "cell_type": "code",
   "execution_count": 4,
   "metadata": {},
   "outputs": [],
   "source": [
    "#name columns and create ref lines\n",
    "df.columns = ['line']\n",
    "df['line_num'] = df.index + 1"
   ]
  },
  {
   "cell_type": "code",
   "execution_count": 5,
   "metadata": {},
   "outputs": [],
   "source": [
    "#split lines in to Odds and Evens \n",
    "odds = df[df.line_num %  2 == 0].reset_index().drop('index', axis=1)\n",
    "evens = df[df.line_num %  2 == 1].reset_index().drop('index',axis=1)"
   ]
  },
  {
   "cell_type": "code",
   "execution_count": 6,
   "metadata": {},
   "outputs": [],
   "source": [
    "#odds = odds.where(odds['line'] != '').dropna().reset_index(drop=True)\n",
    "#evens = evens.where(evens['line'] != '').dropna().reset_index(drop=True)"
   ]
  },
  {
   "cell_type": "code",
   "execution_count": 7,
   "metadata": {},
   "outputs": [],
   "source": [
    "#get headers from odds and evens DFs\n",
    "head1 = odds[1:1]['line'].values.compute()[0].split('|')\n",
    "head2 = evens[2:2]['line'].values.compute()[0].split('|')"
   ]
  },
  {
   "cell_type": "code",
   "execution_count": 8,
   "metadata": {},
   "outputs": [],
   "source": [
    "# Combine Headers from odds and evens dataframes\n",
    "header = head1 + head2"
   ]
  },
  {
   "cell_type": "code",
   "execution_count": 9,
   "metadata": {},
   "outputs": [],
   "source": [
    "# merge odds and even dd to single dd\n",
    "ddf = evens[3:].join(odds[1:],lsuffix=\"main\",rsuffix=\"wrapped\" )\n",
    "ddf = ddf.drop(['line_nummain','line_numwrapped'], axis=1)"
   ]
  },
  {
   "cell_type": "code",
   "execution_count": 10,
   "metadata": {},
   "outputs": [],
   "source": [
    "# join lines from both dd\n",
    "ddf['wholeline'] = ddf['linemain'].astype(str) + ddf['linewrapped'].astype(str)\n",
    "df = ddf['wholeline']"
   ]
  },
  {
   "cell_type": "code",
   "execution_count": 11,
   "metadata": {},
   "outputs": [],
   "source": [
    "# Save File to Exel\n",
    "SR = df.compute()\n",
    "df = pd.DataFrame([ x.split('|') for x in SR.tolist() ], columns = header).drop('',axis=1)\n",
    "df.to_excel('complex_text.xlsx')"
   ]
  },
  {
   "cell_type": "code",
   "execution_count": null,
   "metadata": {},
   "outputs": [],
   "source": []
  }
 ],
 "metadata": {
  "kernelspec": {
   "display_name": "Python 3",
   "language": "python",
   "name": "python3"
  },
  "language_info": {
   "codemirror_mode": {
    "name": "ipython",
    "version": 3
   },
   "file_extension": ".py",
   "mimetype": "text/x-python",
   "name": "python",
   "nbconvert_exporter": "python",
   "pygments_lexer": "ipython3",
   "version": "3.7.0"
  }
 },
 "nbformat": 4,
 "nbformat_minor": 2
}
