{
 "cells": [
  {
   "cell_type": "code",
   "execution_count": 2,
   "metadata": {},
   "outputs": [],
   "source": [
    "import pandas as pd\n",
    "import numpy as np\n",
    "import xlsxwriter \n",
    "import os\n",
    "import glob\n",
    "import dask.dataframe as dd\n",
    "import dask.bag as db\n",
    "import zipfile\n",
    "import shutil\n",
    "import win32com.client\n",
    "import time\n",
    "\n",
    "\n",
    "pd.set_option('display.float_format', lambda x: '%.2f' % x)"
   ]
  },
  {
   "cell_type": "code",
   "execution_count": 12,
   "metadata": {},
   "outputs": [
    {
     "ename": "NameError",
     "evalue": "name 'com_error' is not defined",
     "output_type": "error",
     "traceback": [
      "\u001b[1;31m---------------------------------------------------------------------------\u001b[0m",
      "\u001b[1;31mcom_error\u001b[0m                                 Traceback (most recent call last)",
      "\u001b[1;32m<ipython-input-12-fff85e644f62>\u001b[0m in \u001b[0;36m<module>\u001b[1;34m()\u001b[0m\n\u001b[0;32m    123\u001b[0m     \u001b[1;32mtry\u001b[0m\u001b[1;33m:\u001b[0m\u001b[1;33m\u001b[0m\u001b[0m\n\u001b[1;32m--> 124\u001b[1;33m         \u001b[0mMain\u001b[0m\u001b[1;33m(\u001b[0m\u001b[1;33m)\u001b[0m\u001b[1;33m\u001b[0m\u001b[0m\n\u001b[0m\u001b[0;32m    125\u001b[0m     \u001b[1;32mexcept\u001b[0m \u001b[0mcom_error\u001b[0m \u001b[1;32mas\u001b[0m \u001b[0me\u001b[0m\u001b[1;33m:\u001b[0m\u001b[1;33m\u001b[0m\u001b[0m\n",
      "\u001b[1;32m<ipython-input-12-fff85e644f62>\u001b[0m in \u001b[0;36mMain\u001b[1;34m()\u001b[0m\n\u001b[0;32m      9\u001b[0m \u001b[1;33m\u001b[0m\u001b[0m\n\u001b[1;32m---> 10\u001b[1;33m     \u001b[0mSapGuiAuto\u001b[0m \u001b[1;33m=\u001b[0m \u001b[0mwin32com\u001b[0m\u001b[1;33m.\u001b[0m\u001b[0mclient\u001b[0m\u001b[1;33m.\u001b[0m\u001b[0mGetObject\u001b[0m\u001b[1;33m(\u001b[0m\u001b[1;34m\"SAPGui\"\u001b[0m\u001b[1;33m)\u001b[0m\u001b[1;33m\u001b[0m\u001b[0m\n\u001b[0m\u001b[0;32m     11\u001b[0m     \u001b[1;32mif\u001b[0m \u001b[1;32mnot\u001b[0m \u001b[0mtype\u001b[0m\u001b[1;33m(\u001b[0m\u001b[0mSapGuiAuto\u001b[0m\u001b[1;33m)\u001b[0m \u001b[1;33m==\u001b[0m \u001b[0mwin32com\u001b[0m\u001b[1;33m.\u001b[0m\u001b[0mclient\u001b[0m\u001b[1;33m.\u001b[0m\u001b[0mCDispatch\u001b[0m\u001b[1;33m:\u001b[0m\u001b[1;33m\u001b[0m\u001b[0m\n",
      "\u001b[1;32m~\\AppData\\Local\\Continuum\\anaconda3\\lib\\site-packages\\win32com\\client\\__init__.py\u001b[0m in \u001b[0;36mGetObject\u001b[1;34m(Pathname, Class, clsctx)\u001b[0m\n\u001b[0;32m     71\u001b[0m   \u001b[1;32melse\u001b[0m\u001b[1;33m:\u001b[0m\u001b[1;33m\u001b[0m\u001b[0m\n\u001b[1;32m---> 72\u001b[1;33m     \u001b[1;32mreturn\u001b[0m \u001b[0mMoniker\u001b[0m\u001b[1;33m(\u001b[0m\u001b[0mPathname\u001b[0m\u001b[1;33m,\u001b[0m \u001b[0mclsctx\u001b[0m\u001b[1;33m)\u001b[0m\u001b[1;33m\u001b[0m\u001b[0m\n\u001b[0m\u001b[0;32m     73\u001b[0m \u001b[1;33m\u001b[0m\u001b[0m\n",
      "\u001b[1;32m~\\AppData\\Local\\Continuum\\anaconda3\\lib\\site-packages\\win32com\\client\\__init__.py\u001b[0m in \u001b[0;36mMoniker\u001b[1;34m(Pathname, clsctx)\u001b[0m\n\u001b[0;32m     86\u001b[0m   \"\"\"\n\u001b[1;32m---> 87\u001b[1;33m   \u001b[0mmoniker\u001b[0m\u001b[1;33m,\u001b[0m \u001b[0mi\u001b[0m\u001b[1;33m,\u001b[0m \u001b[0mbindCtx\u001b[0m \u001b[1;33m=\u001b[0m \u001b[0mpythoncom\u001b[0m\u001b[1;33m.\u001b[0m\u001b[0mMkParseDisplayName\u001b[0m\u001b[1;33m(\u001b[0m\u001b[0mPathname\u001b[0m\u001b[1;33m)\u001b[0m\u001b[1;33m\u001b[0m\u001b[0m\n\u001b[0m\u001b[0;32m     88\u001b[0m   \u001b[0mdispatch\u001b[0m \u001b[1;33m=\u001b[0m \u001b[0mmoniker\u001b[0m\u001b[1;33m.\u001b[0m\u001b[0mBindToObject\u001b[0m\u001b[1;33m(\u001b[0m\u001b[0mbindCtx\u001b[0m\u001b[1;33m,\u001b[0m \u001b[1;32mNone\u001b[0m\u001b[1;33m,\u001b[0m \u001b[0mpythoncom\u001b[0m\u001b[1;33m.\u001b[0m\u001b[0mIID_IDispatch\u001b[0m\u001b[1;33m)\u001b[0m\u001b[1;33m\u001b[0m\u001b[0m\n",
      "\u001b[1;31mcom_error\u001b[0m: (-2147221020, 'Invalid syntax', None, None)",
      "\nDuring handling of the above exception, another exception occurred:\n",
      "\u001b[1;31mNameError\u001b[0m                                 Traceback (most recent call last)",
      "\u001b[1;32m<ipython-input-12-fff85e644f62>\u001b[0m in \u001b[0;36m<module>\u001b[1;34m()\u001b[0m\n\u001b[0;32m    123\u001b[0m     \u001b[1;32mtry\u001b[0m\u001b[1;33m:\u001b[0m\u001b[1;33m\u001b[0m\u001b[0m\n\u001b[0;32m    124\u001b[0m         \u001b[0mMain\u001b[0m\u001b[1;33m(\u001b[0m\u001b[1;33m)\u001b[0m\u001b[1;33m\u001b[0m\u001b[0m\n\u001b[1;32m--> 125\u001b[1;33m     \u001b[1;32mexcept\u001b[0m \u001b[0mcom_error\u001b[0m \u001b[1;32mas\u001b[0m \u001b[0me\u001b[0m\u001b[1;33m:\u001b[0m\u001b[1;33m\u001b[0m\u001b[0m\n\u001b[0m\u001b[0;32m    126\u001b[0m         \u001b[0mprint\u001b[0m\u001b[1;33m(\u001b[0m\u001b[1;34m'Can not connect to SAP'\u001b[0m\u001b[1;33m)\u001b[0m\u001b[1;33m\u001b[0m\u001b[0m\n",
      "\u001b[1;31mNameError\u001b[0m: name 'com_error' is not defined"
     ]
    }
   ],
   "source": [
    "\n",
    "filepath = r'C:\\Users\\hwe334\\OneDrive - Anadarko\\Desktop\\kpmg_test'\n",
    "filename = 'ZSE16H_11-27-2018.xlsx'\n",
    "\n",
    "\n",
    "\n",
    "#-Sub Main--------------------------------------------------------------\n",
    "def Main():\n",
    "\n",
    "    SapGuiAuto = win32com.client.GetObject(\"SAPGui\")\n",
    "    if not type(SapGuiAuto) == win32com.client.CDispatch:\n",
    "      return\n",
    "\n",
    "    application = SapGuiAuto.GetScriptingEngine\n",
    "    if not type(application) == win32com.client.CDispatch:\n",
    "      SapGuiAuto = None\n",
    "      return\n",
    "\n",
    "    connection = application.Children(0)\n",
    "    if not type(connection) == win32com.client.CDispatch:\n",
    "      application = None\n",
    "      SapGuiAuto = None\n",
    "      return\n",
    "\n",
    "    session = connection.Children(0)\n",
    "    if not type(session) == win32com.client.CDispatch:\n",
    "      connection = None\n",
    "      application = None\n",
    "      SapGuiAuto = None\n",
    "      return\n",
    "\n",
    "    session.findById(\"wnd[0]\").maximize()\n",
    "    session.findById(\"wnd[0]/tbar[0]/okcd\").text = \"/nzse16h\"\n",
    "    session.findById(\"wnd[0]\").sendVKey(0)\n",
    "    session.findById(\"wnd[0]/usr/ctxtGD-TAB\").text = \"FAGLFLEXT\"\n",
    "    session.findById(\"wnd[0]/usr/ctxtGD-TAB\").setFocus()\n",
    "    session.findById(\"wnd[0]/usr/ctxtGD-TAB\").caretPosition = 9\n",
    "    session.findById(\"wnd[0]\").sendVKey(0)\n",
    "    session.findById(\"wnd[0]/usr/txtGD-MAX_LINES\").text = \"\"\n",
    "    session.findById(\"wnd[0]/usr/tblSAPLSE16NSELFIELDS_TC/ctxtGS_SELFIELDS-LOW[2,1]\").text = \"2018\"\n",
    "    session.findById(\"wnd[0]/usr/tblSAPLSE16NSELFIELDS_TC/ctxtGS_SELFIELDS-LOW[2,1]\").setFocus()\n",
    "    session.findById(\"wnd[0]/usr/tblSAPLSE16NSELFIELDS_TC/ctxtGS_SELFIELDS-LOW[2,1]\").caretPosition = 4\n",
    "    session.findById(\"wnd[0]/tbar[1]/btn[18]\").press()\n",
    "    session.findById(\"wnd[0]/usr/tblSAPLSE16NSELFIELDS_TC/chkGS_SELFIELDS-MARK[6,1]\").selected = True\n",
    "    session.findById(\"wnd[0]/usr/tblSAPLSE16NSELFIELDS_TC/chkGS_SELFIELDS-GROUP_BY[8,1]\").selected = True\n",
    "    session.findById(\"wnd[0]/usr/tblSAPLSE16NSELFIELDS_TC/chkGS_SELFIELDS-MARK[6,24]\").selected = True\n",
    "    session.findById(\"wnd[0]/usr/tblSAPLSE16NSELFIELDS_TC/chkGS_SELFIELDS-GROUP_BY[8,24]\").selected = True\n",
    "    session.findById(\"wnd[0]/usr/tblSAPLSE16NSELFIELDS_TC/ctxtGS_SELFIELDS-LOW[2,18]\").text = \"0l\"\n",
    "    # session.findById(\"wnd[0]/usr/tblSAPLSE16NSELFIELDS_TC/btnPUSH[4,24]\").setFocus()\n",
    "    # session.findById(\"wnd[0]/usr/tblSAPLSE16NSELFIELDS_TC/btnPUSH[4,24]\").press()\n",
    "    # session.findById(\"wnd[1]/tbar[0]/btn[24]\").press()\n",
    "    # session.findById(\"wnd[1]/tbar[0]/btn[8]\").press()\n",
    "    session.findById(\"wnd[0]/usr/tblSAPLSE16NSELFIELDS_TC/chkGS_SELFIELDS-MARK[6,22]\").selected = True\n",
    "    session.findById(\"wnd[0]/usr/tblSAPLSE16NSELFIELDS_TC/chkGS_SELFIELDS-GROUP_BY[8,22]\").selected = True\n",
    "    session.findById(\"wnd[0]/usr/tblSAPLSE16NSELFIELDS_TC/chkGS_SELFIELDS-GROUP_BY[8,22]\").setFocus()\n",
    "    session.findById(\"wnd[0]/usr/tblSAPLSE16NSELFIELDS_TC\").verticalScrollbar.position = 3\n",
    "    session.findById(\"wnd[0]/usr/tblSAPLSE16NSELFIELDS_TC\").verticalScrollbar.position = 6\n",
    "    session.findById(\"wnd[0]/usr/tblSAPLSE16NSELFIELDS_TC\").verticalScrollbar.position = 9\n",
    "    session.findById(\"wnd[0]/usr/tblSAPLSE16NSELFIELDS_TC\").verticalScrollbar.position = 12\n",
    "    session.findById(\"wnd[0]/usr/tblSAPLSE16NSELFIELDS_TC\").verticalScrollbar.position = 15\n",
    "    session.findById(\"wnd[0]/usr/tblSAPLSE16NSELFIELDS_TC\").verticalScrollbar.position = 18\n",
    "    session.findById(\"wnd[0]/usr/tblSAPLSE16NSELFIELDS_TC\").verticalScrollbar.position = 21\n",
    "    session.findById(\"wnd[0]/usr/tblSAPLSE16NSELFIELDS_TC\").verticalScrollbar.position = 24\n",
    "    session.findById(\"wnd[0]/usr/tblSAPLSE16NSELFIELDS_TC\").verticalScrollbar.position = 27\n",
    "    session.findById(\"wnd[0]/usr/tblSAPLSE16NSELFIELDS_TC\").verticalScrollbar.position = 30\n",
    "    session.findById(\"wnd[0]/usr/tblSAPLSE16NSELFIELDS_TC\").verticalScrollbar.position = 33\n",
    "    session.findById(\"wnd[0]/usr/tblSAPLSE16NSELFIELDS_TC\").verticalScrollbar.position = 36\n",
    "    session.findById(\"wnd[0]/usr/tblSAPLSE16NSELFIELDS_TC\").verticalScrollbar.position = 39\n",
    "    session.findById(\"wnd[0]/usr/tblSAPLSE16NSELFIELDS_TC\").verticalScrollbar.position = 42\n",
    "    session.findById(\"wnd[0]/usr/tblSAPLSE16NSELFIELDS_TC\").verticalScrollbar.position = 45\n",
    "    session.findById(\"wnd[0]/usr/tblSAPLSE16NSELFIELDS_TC\").verticalScrollbar.position = 48\n",
    "    session.findById(\"wnd[0]/usr/tblSAPLSE16NSELFIELDS_TC/chkGS_SELFIELDS-MARK[6,11]\").selected = True\n",
    "    session.findById(\"wnd[0]/usr/tblSAPLSE16NSELFIELDS_TC/chkGS_SELFIELDS-SUM_UP[7,11]\").selected = True\n",
    "    session.findById(\"wnd[0]/usr/tblSAPLSE16NSELFIELDS_TC/chkGS_SELFIELDS-MARK[6,12]\").selected = True\n",
    "    session.findById(\"wnd[0]/usr/tblSAPLSE16NSELFIELDS_TC/chkGS_SELFIELDS-MARK[6,13]\").selected = True\n",
    "    session.findById(\"wnd[0]/usr/tblSAPLSE16NSELFIELDS_TC/chkGS_SELFIELDS-MARK[6,14]\").selected = True\n",
    "    session.findById(\"wnd[0]/usr/tblSAPLSE16NSELFIELDS_TC/chkGS_SELFIELDS-MARK[6,15]\").selected = True\n",
    "    session.findById(\"wnd[0]/usr/tblSAPLSE16NSELFIELDS_TC/chkGS_SELFIELDS-MARK[6,16]\").selected = True\n",
    "    session.findById(\"wnd[0]/usr/tblSAPLSE16NSELFIELDS_TC/chkGS_SELFIELDS-MARK[6,17]\").selected = True\n",
    "    session.findById(\"wnd[0]/usr/tblSAPLSE16NSELFIELDS_TC/chkGS_SELFIELDS-MARK[6,18]\").selected = True\n",
    "    session.findById(\"wnd[0]/usr/tblSAPLSE16NSELFIELDS_TC/chkGS_SELFIELDS-MARK[6,19]\").selected = True\n",
    "    session.findById(\"wnd[0]/usr/tblSAPLSE16NSELFIELDS_TC/chkGS_SELFIELDS-MARK[6,20]\").selected = True\n",
    "    session.findById(\"wnd[0]/usr/tblSAPLSE16NSELFIELDS_TC/chkGS_SELFIELDS-MARK[6,21]\").selected = True\n",
    "    session.findById(\"wnd[0]/usr/tblSAPLSE16NSELFIELDS_TC/chkGS_SELFIELDS-MARK[6,22]\").selected = True\n",
    "    session.findById(\"wnd[0]/usr/tblSAPLSE16NSELFIELDS_TC/chkGS_SELFIELDS-MARK[6,23]\").selected = True\n",
    "    session.findById(\"wnd[0]/usr/tblSAPLSE16NSELFIELDS_TC/chkGS_SELFIELDS-MARK[6,24]\").selected = True\n",
    "    session.findById(\"wnd[0]/usr/tblSAPLSE16NSELFIELDS_TC/chkGS_SELFIELDS-MARK[6,25]\").selected = True\n",
    "    session.findById(\"wnd[0]/usr/tblSAPLSE16NSELFIELDS_TC/chkGS_SELFIELDS-MARK[6,26]\").selected = True\n",
    "    session.findById(\"wnd[0]/usr/tblSAPLSE16NSELFIELDS_TC/chkGS_SELFIELDS-MARK[6,27]\").selected = True\n",
    "    session.findById(\"wnd[0]/usr/tblSAPLSE16NSELFIELDS_TC/chkGS_SELFIELDS-SUM_UP[7,12]\").selected = True\n",
    "    session.findById(\"wnd[0]/usr/tblSAPLSE16NSELFIELDS_TC/chkGS_SELFIELDS-SUM_UP[7,13]\").selected = True\n",
    "    session.findById(\"wnd[0]/usr/tblSAPLSE16NSELFIELDS_TC/chkGS_SELFIELDS-SUM_UP[7,14]\").selected = True\n",
    "    session.findById(\"wnd[0]/usr/tblSAPLSE16NSELFIELDS_TC/chkGS_SELFIELDS-SUM_UP[7,15]\").selected = True\n",
    "    session.findById(\"wnd[0]/usr/tblSAPLSE16NSELFIELDS_TC/chkGS_SELFIELDS-SUM_UP[7,16]\").selected = True\n",
    "    session.findById(\"wnd[0]/usr/tblSAPLSE16NSELFIELDS_TC/chkGS_SELFIELDS-SUM_UP[7,17]\").selected = True\n",
    "    session.findById(\"wnd[0]/usr/tblSAPLSE16NSELFIELDS_TC/chkGS_SELFIELDS-SUM_UP[7,18]\").selected = True\n",
    "    session.findById(\"wnd[0]/usr/tblSAPLSE16NSELFIELDS_TC/chkGS_SELFIELDS-SUM_UP[7,19]\").selected = True\n",
    "    session.findById(\"wnd[0]/usr/tblSAPLSE16NSELFIELDS_TC/chkGS_SELFIELDS-SUM_UP[7,20]\").selected = True\n",
    "    session.findById(\"wnd[0]/usr/tblSAPLSE16NSELFIELDS_TC/chkGS_SELFIELDS-SUM_UP[7,21]\").selected = True\n",
    "    session.findById(\"wnd[0]/usr/tblSAPLSE16NSELFIELDS_TC/chkGS_SELFIELDS-SUM_UP[7,22]\").selected = True\n",
    "    session.findById(\"wnd[0]/usr/tblSAPLSE16NSELFIELDS_TC/chkGS_SELFIELDS-SUM_UP[7,23]\").selected = True\n",
    "    session.findById(\"wnd[0]/usr/tblSAPLSE16NSELFIELDS_TC/chkGS_SELFIELDS-SUM_UP[7,24]\").selected = True\n",
    "    session.findById(\"wnd[0]/usr/tblSAPLSE16NSELFIELDS_TC/chkGS_SELFIELDS-SUM_UP[7,25]\").selected = True\n",
    "    session.findById(\"wnd[0]/usr/tblSAPLSE16NSELFIELDS_TC/chkGS_SELFIELDS-SUM_UP[7,26]\").selected = True\n",
    "    session.findById(\"wnd[0]/usr/tblSAPLSE16NSELFIELDS_TC/chkGS_SELFIELDS-SUM_UP[7,27]\").selected = True\n",
    "    session.findById(\"wnd[0]/usr/tblSAPLSE16NSELFIELDS_TC/chkGS_SELFIELDS-SUM_UP[7,27]\").setFocus()\n",
    "    session.findById(\"wnd[0]/tbar[1]/btn[8]\").press()\n",
    "    session.findById(\"wnd[0]/usr/cntlRESULT_LIST/shellcont/shell\").pressToolbarContextButton(\"&MB_EXPORT\")\n",
    "    session.findById(\"wnd[0]/usr/cntlRESULT_LIST/shellcont/shell\").selectContextMenuItem(\"&XXL\")\n",
    "    session.findById(\"wnd[1]/tbar[0]/btn[0]\").press()\n",
    "    session.findById(\"wnd[1]/usr/ctxtDY_PATH\").text = filepath\n",
    "    session.findById(\"wnd[1]/usr/ctxtDY_FILENAME\").text = filename\n",
    "    session.findById(\"wnd[1]/usr/ctxtDY_FILENAME\").caretPosition = 13\n",
    "    session.findById(\"wnd[1]/tbar[0]/btn[0]\").press()\n",
    "\n",
    "    session = None\n",
    "    connection = None\n",
    "    application = None\n",
    "    SapGuiAuto = None\n",
    "\n",
    "#-Main------------------------------------------------------------------\n",
    "if __name__ == \"__main__\":\n",
    "    try:\n",
    "        Main()\n",
    "    except :\n",
    "        print('Can not connect to SAP')\n"
   ]
  },
  {
   "cell_type": "code",
   "execution_count": null,
   "metadata": {},
   "outputs": [],
   "source": [
    "# User input for folder path\n",
    "dir_name = str(input())\n",
    "#C:\\Users\\hwe334\\OneDrive - Anadarko\\Desktop"
   ]
  },
  {
   "cell_type": "code",
   "execution_count": null,
   "metadata": {},
   "outputs": [],
   "source": [
    "# Search through user path for zipped files\n",
    "kpmg_files = glob.glob(os.path.join(dir_name, \"*\\\\*FAGLFLEXT*.zip\"), recursive = True)\n",
    "print(kpmg_files)"
   ]
  },
  {
   "cell_type": "code",
   "execution_count": null,
   "metadata": {},
   "outputs": [],
   "source": [
    "# Loops through zipped folder to extract txt file to a temp folder\n",
    "tempf_path = os.path.join(dir_name,\"temp\")\n",
    "print(tempf_path)\n",
    "for x in kpmg_files:\n",
    "    zip_ref = zipfile.ZipFile(x)\n",
    "    print(zip_ref.namelist())\n",
    "    if not os.path.exists(tempf_path):\n",
    "        os.makedirs(tempf_path)\n",
    "    zip_ref.extractall(tempf_path)\n",
    "    zip_ref.close()\n",
    "    "
   ]
  },
  {
   "cell_type": "code",
   "execution_count": null,
   "metadata": {},
   "outputs": [],
   "source": [
    "#Reads in each txt file and combines them to a dask dataframe\n",
    "cl = ['RBUKRS','RACCT', 'KSLVT', 'KSL01', 'KSL02', 'KSL03', 'KSL04', 'KSL05',\n",
    "      'KSL06', 'KSL07', 'KSL08', 'KSL09','KSL10', 'KSL11', 'KSL12', 'KSL13','KSL14', \n",
    "      'KSL15', 'KSL16']\n",
    "\n",
    "kpmgdf = dd.read_csv(os.path.join(tempf_path,\"*.txt\"), sep='#|#', usecols=cl, header=0,\n",
    "                     dtype= {'RACCT':'object', 'RBURKS':'object'}, engine='python')"
   ]
  },
  {
   "cell_type": "code",
   "execution_count": null,
   "metadata": {},
   "outputs": [],
   "source": [
    "#renames columns\n",
    "kpmgdf = kpmgdf.rename(\n",
    "               columns = {'KSLVT':'kpmgKSLVT', 'KSL01':'kpmgKSL01', 'KSL02':'kpmgKSL02', 'KSL03':'kpmgKSL03',\n",
    "                          'KSL04':'kpmgKSL04', 'KSL05':'kpmgKSL05', 'KSL06':'kpmgKSL06', 'KSL07':'kpmgKSL07',\n",
    "                          'KSL08':'kpmgKSL08', 'KSL09':'kpmgKSL09', 'KSL10':'kpmgKSL10', 'KSL11':'kpmgKSL11',\n",
    "                          'KSL12':'kpmgKSL12', 'KSL13':'kpmgKSL13', 'KSL14':'kpmgKSL14', 'KSL15':'kpmgKSL15',\n",
    "                          'KSL16':'kpmgKSL16'})"
   ]
  },
  {
   "cell_type": "code",
   "execution_count": null,
   "metadata": {},
   "outputs": [],
   "source": [
    "# Group by \"RBURKS\" and \"RACCT\" then generate to CSV file\n",
    "kpmg_calc = kpmgdf.groupby(['RBUKRS', 'RACCT']).sum().compute()\n",
    "kpmg_calc.to_csv(os.path.join(dir_name, r\"kpmg_calc.txt\"),float_format='%f')"
   ]
  },
  {
   "cell_type": "code",
   "execution_count": null,
   "metadata": {},
   "outputs": [],
   "source": [
    "#Delete Temp file containing extracted text file\n",
    "shutil.rmtree(tempf_path)"
   ]
  },
  {
   "cell_type": "code",
   "execution_count": null,
   "metadata": {},
   "outputs": [],
   "source": [
    "# Read in both excel files\n",
    "df1 = pd.read_csv(os.path.join(dir_name, r\"kpmg_calc.txt\"),dtype= {'RACCT':'object', 'RBURKS':'object'})\n",
    "df2 = pd.read_excel(r'C:\\Users\\hwe334\\OneDrive - Anadarko\\Desktop\\ZSE16H_11-15-2018.xlsx', 'Sheet1')\n",
    "\n",
    "df2 = df2.drop(['Fiscal Year', 'Number of Entries'], axis=1)"
   ]
  },
  {
   "cell_type": "code",
   "execution_count": null,
   "metadata": {},
   "outputs": [],
   "source": [
    "# Make sure we order by account number so the comparisons work\n",
    "df1 = df1.sort_values(['RACCT','RBUKRS'])\n",
    "df1.reset_index(inplace=True)\n"
   ]
  },
  {
   "cell_type": "code",
   "execution_count": null,
   "metadata": {},
   "outputs": [],
   "source": [
    "df1 = df1.rename(columns = {'kpmgKSLVT':'KSLVT', 'kpmgKSL01':'KSL01', 'kpmgKSL02':'KSL02', 'kpmgKSL03':'KSL03',\n",
    "                            'kpmgKSL04':'KSL04', 'kpmgKSL05':'KSL05','kpmgKSL06':'KSL06', 'kpmgKSL07':'KSL07',\n",
    "                            'kpmgKSL08':'KSL08', 'kpmgKSL09':'KSL09','kpmgKSL10':'KSL10','kpmgKSL11':'KSL11',\n",
    "                            'kpmgKSL12':'KSL12', 'kpmgKSL13':'KSL13','kpmgKSL14':'KSL14','kpmgKSL15':'KSL15',\n",
    "                            'kpmgKSL16':'KSL16'})"
   ]
  },
  {
   "cell_type": "code",
   "execution_count": null,
   "metadata": {},
   "outputs": [],
   "source": [
    "# Clean up Dataframe1 for join\n",
    "df1 = df1.drop('index',1)\n",
    "df1 = df1[['RBUKRS', 'RACCT','KSLVT', 'KSL01', 'KSL02','KSL03','KSL04', 'KSL05',\n",
    "           'KSL06']].rename(columns={'RBUKRS':'Company Code',\n",
    "                                     'RACCT':'Account Number'}).set_index(['Company Code','Account Number'])\n",
    "df1['Total KPMG Extracted'] = df1.sum(axis=1)\n",
    "df1[''] = ''\n",
    "\n",
    "#Clean up DF2 for join\n",
    "df2 = df2[['Account Number','Company Code','Bal. c/f LC','Total transact.in LC', 'Total transact.in LC.1',\n",
    "           'Total transact.in LC.2','Total transact.in LC.3', 'Total transact.in LC.4',\n",
    "           'Total transact.in LC.5']].set_index(['Company Code','Account Number'])\n",
    "df2['Total ESS Extracted'] = df2.sum(axis=1)\n",
    "df2['  '] = ' '"
   ]
  },
  {
   "cell_type": "code",
   "execution_count": null,
   "metadata": {},
   "outputs": [],
   "source": [
    "#format Dataframe and add columns\n",
    "Combdf = df1.join(df2, on=['Company Code','Account Number'], sort=True)\n",
    "Combdf['ESS Extracted Manually VS KPMG Extracted '] = Combdf['Total KPMG Extracted'] - Combdf['Total ESS Extracted']\n",
    "Combdf[['','  ']] = ''\n"
   ]
  },
  {
   "cell_type": "code",
   "execution_count": null,
   "metadata": {},
   "outputs": [],
   "source": [
    "#create Ranges for cell formatting\n",
    "range2 = 'C3:J{}'.format(len(Combdf))\n",
    "range3 = 'L3:S{}'.format(len(Combdf))\n",
    "range4 = 'U3:U{}'.format(len(Combdf))\n",
    "range5 = 'C2:J2'\n",
    "range6 = 'L2:S2'\n",
    "range7 = 'J3:J{}'.format(len(Combdf))\n",
    "range8 = 'S3:S{}'.format(len(Combdf))\n",
    "range9 = 'K1:K{}'.format(len(Combdf))\n",
    "range10 = 'T1:T{}'.format(len(Combdf))"
   ]
  },
  {
   "cell_type": "code",
   "execution_count": null,
   "metadata": {},
   "outputs": [],
   "source": [
    "#create Excel Object\n",
    "writer = pd.ExcelWriter('KPMG Extracted FAGLFLEXT File Reconciliation_test.xlsx', engine='xlsxwriter')\n"
   ]
  },
  {
   "cell_type": "code",
   "execution_count": null,
   "metadata": {},
   "outputs": [],
   "source": [
    "#create Excel Sheet \n",
    "Combdf.to_excel(writer,sheet_name='Sheet1', startrow=1)\n",
    "worksheet = writer.sheets['Sheet1']\n",
    "workbook = writer.book\n",
    "\n",
    "#Define Format\n",
    "\n",
    "red_format = workbook.add_format({'bg_color': '#FFC7CE','font_color': '#9C0006', 'border': 1}) #  ess VS kpmg column values\n",
    "\n",
    "header_format = workbook.add_format({'bold': True,'align': 'center','valign': 'vcenter', # column headers\n",
    "                                     'fg_color': '#c2bcbc','border': 1})\n",
    "\n",
    "merge_format = workbook.add_format({'bold': 1,'border': 1,'align': 'center', #Extract headers\n",
    "                                    'valign': 'vcenter','fg_color': '#c2bcbc',\n",
    "                                    'size':30})\n",
    "merge_format2 = workbook.add_format({'bold': 1,'border': 1,'align': 'center', #index format(Company codes and Account Number)\n",
    "                                    'valign': 'vcenter','fg_color': '#c2bcbc',\n",
    "                                    'size':15})\n",
    "\n",
    "money = workbook.add_format({'num_format': '$#,##0.00', 'border': 1}) #values format\n",
    "\n",
    "totals = workbook.add_format({'fg_color': '#AED6F1','num_format': '$#,##0.00','border': 1 }) # Totals Column\n",
    "empty = workbook.add_format({'fg_color': '#F6DDCC', 'border': 1}) # format for empty rows\n",
    "gtotals = workbook.add_format({'fg_color': '#F9E79F', 'num_format': '$#,##0.00', 'border': 1}) # Difference column\n",
    "\n",
    "\n"
   ]
  },
  {
   "cell_type": "code",
   "execution_count": null,
   "metadata": {},
   "outputs": [],
   "source": [
    "\n",
    "worksheet.set_row(0, 30)\n",
    "\n",
    "# formating Headers \n",
    "worksheet.set_column(range5, 18,header_format)\n",
    "worksheet.set_column(range6, 18,header_format)\n",
    "\n",
    "for col_num, value in enumerate(Combdf.columns.values):\n",
    "    worksheet.write(1, col_num + 2, value, header_format)\n",
    "\n",
    "\n",
    "#formating values \n",
    "worksheet.set_column(range2, 20, money)\n",
    "worksheet.set_column(range3, 20, money)\n",
    "worksheet.set_column(range4, 20, money)\n",
    "#Total Columns Background\n",
    "worksheet.set_column(range7, 20, totals)\n",
    "worksheet.set_column(range8, 20, totals)\n",
    "worksheet.set_column('K:K', 5, empty)\n",
    "worksheet.set_column('T:T', 5, empty)\n",
    "worksheet.set_column(range4, 45, gtotals)\n",
    "worksheet.set_column('A:A', 19)\n",
    "worksheet.set_column('B:B', 21.14)\n",
    "\n",
    "\n",
    "\n",
    "#Merged Cells formating\n",
    "worksheet.merge_range('C1:J1', 'Summary of Table FAGLFLEXT', merge_format)\n",
    "worksheet.merge_range('L1:S1', 'KPMG Extracted File - Table FAGLFLEXT', merge_format)\n",
    "worksheet.merge_range('A1:A2', 'Company Code', merge_format2)\n",
    "worksheet.merge_range('B1:B2', 'Account Number', merge_format2)\n",
    "worksheet.merge_range('U1:U2', 'ESS Extracted Manually VS KPMG Extracted ', header_format)\n",
    "worksheet.merge_range('K1:K20000','', empty)\n",
    "worksheet.merge_range('T1:T20000','',empty)"
   ]
  },
  {
   "cell_type": "code",
   "execution_count": null,
   "metadata": {},
   "outputs": [],
   "source": [
    "writer.save()"
   ]
  },
  {
   "cell_type": "code",
   "execution_count": null,
   "metadata": {},
   "outputs": [],
   "source": []
  },
  {
   "cell_type": "code",
   "execution_count": null,
   "metadata": {},
   "outputs": [],
   "source": []
  }
 ],
 "metadata": {
  "kernelspec": {
   "display_name": "Python 3",
   "language": "python",
   "name": "python3"
  },
  "language_info": {
   "codemirror_mode": {
    "name": "ipython",
    "version": 3
   },
   "file_extension": ".py",
   "mimetype": "text/x-python",
   "name": "python",
   "nbconvert_exporter": "python",
   "pygments_lexer": "ipython3",
   "version": "3.7.0"
  },
  "varInspector": {
   "cols": {
    "lenName": 16,
    "lenType": 16,
    "lenVar": 40
   },
   "kernels_config": {
    "python": {
     "delete_cmd_postfix": "",
     "delete_cmd_prefix": "del ",
     "library": "var_list.py",
     "varRefreshCmd": "print(var_dic_list())"
    },
    "r": {
     "delete_cmd_postfix": ") ",
     "delete_cmd_prefix": "rm(",
     "library": "var_list.r",
     "varRefreshCmd": "cat(var_dic_list()) "
    }
   },
   "types_to_exclude": [
    "module",
    "function",
    "builtin_function_or_method",
    "instance",
    "_Feature"
   ],
   "window_display": false
  }
 },
 "nbformat": 4,
 "nbformat_minor": 2
}
