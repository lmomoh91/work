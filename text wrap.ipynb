{
 "cells": [
  {
   "cell_type": "code",
   "execution_count": 4,
   "metadata": {},
   "outputs": [],
   "source": [
    "import pandas as pd\n",
    "import numpy as np\n",
    "from itertools import islice\n",
    "import re"
   ]
  },
  {
   "cell_type": "code",
   "execution_count": 9,
   "metadata": {},
   "outputs": [],
   "source": [
    "pattern = re.compile(r\"\\|(.*?)(?=\\|)\")"
   ]
  },
  {
   "cell_type": "code",
   "execution_count": 2,
   "metadata": {},
   "outputs": [],
   "source": [
    "with open(r\"C:\\Users\\hwe334\\OneDrive - Anadarko\\Python Scripts\\data\\headerwrap\\file_3.txt\", 'r') as f:\n",
    "    content = f.readlines()"
   ]
  },
  {
   "cell_type": "code",
   "execution_count": 6,
   "metadata": {},
   "outputs": [],
   "source": [
    "\n",
    "with open(r\"C:\\Users\\hwe334\\OneDrive - Anadarko\\Python Scripts\\data\\headerwrap\\file_2.txt\") as myfile:\n",
    "    lines = list(islice(myfile, None,None))\n",
    "    \n",
    "    "
   ]
  },
  {
   "cell_type": "code",
   "execution_count": 7,
   "metadata": {},
   "outputs": [
    {
     "data": {
      "text/plain": [
       "['Generic AFE AUC Aging Report\\n',\n",
       " '------------------------------------------------------------------------------------------------------------------------------------------------------------------------------------------------------------------------------------------------------------------------------------------------------------------------------------------------------------------------------------------------------------------------------------------------------------------------------------------------------------------------------------------------------------------------------------------------------------------------------------------------------------------------------------------------------------------------------------------------------------------------------------------------------------------------------------------------------------------------------------------------------------------------------------------------------------------------------------------------------------------------------------------------------------\\n',\n",
       " '|AFE    |AFE Description   |Comp|Cost Center|Profit Ctr|WINs Well #|Cmpl|Cost Center Description|CC Hier - Asset Group|AFE Type|AFE Type              |Operated/NonOp|WINs Status|System Status |User Status|Fin DU|Fin DU Description|AFE Project Manager|Region|Segment |Gross Authorized|Net Authorized|Balance Thru 2015|Activity for 2016|Balance Thru 2016|Activity for 2017|Balance Thru 2017|JAN 2018 Activity|JAN 2018 Balance|FEB 2018 Activity|FEB 2018 Balance|MAR 2018 Activity|MAR 2018 Balance|APR 2018 Activity|APR 2018 Balance|MAY 2018 Activity|MAY 2018 Balance|JUN 2018 Activity|JUN 2018 Balance|JUL 2018 Activity|JUL 2018 Balance|AUG 2018 Activity|AUG 2018 Balance|SEP 2018 Activity|SEP 2018 Balance|OCT 2018 Activity|OCT 2018 Balance|NOV 2018 Activity|NOV 2018 Balance|YTD 2018 Activity|   AUC Balance|   ITD Balance|   Over Spent|% Spent|Budget Yr|Spud Date |Cmpl Date |Last Posting|Created Date|Approval Dte|1st Prod Dt|1st Oil Dt|1st Gas Dt|No Act 6 Mo|Dev Drl No Act 3Mo|Created>6 Mo|Expl Last Updt|Explanation|\\n',\n",
       " '|----------------------------------------------------------------------------------------------------------------------------------------------------------------------------------------------------------------------------------------------------------------------------------------------------------------------------------------------------------------------------------------------------------------------------------------------------------------------------------------------------------------------------------------------------------------------------------------------------------------------------------------------------------------------------------------------------------------------------------------------------------------------------------------------------------------------------------------------------------------------------------------------------------------------------------------------------------------------------------------------------------------------------------------------------------|\\n',\n",
       " '|2147304|MR_SA_PSD24B 6H   |0772|1K552700   |P000000010|K5527      |    |MR_SA_PSD24B 6H        |GRWTH                |DE      |DRILLING - EXPLORATORY|N             |           |CRTD PREL BUDG|APRV       |9999  |EXPLORATION       |FUNK, JUSTIN       |USEXPL|COO_NODE|   2,499,419.00 |   103,475.95 |            0.00 |            0.00 |            0.00 |            0.00 |            0.00 |            0.00 |           0.00 |            0.00 |           0.00 |            0.00 |           0.00 |            0.00 |           0.00 |            0.00 |           0.00 |            0.00 |           0.00 |            0.00 |           0.00 |            0.00 |           0.00 |       97,863.30 |      97,863.30 |           23.72 |      97,887.02 |            0.77 |      97,887.79 |       97,887.79 |    97,887.79 |    97,887.79 |           0 | 94.60 |2018     |          |          |11/30/2018  |09/20/2018  |09/20/2018  |           |          |          |           |                  |            |              |           |\\n',\n",
       " '|2147141|MR_SA_PSD24A 5H   |0772|1K533900   |P000000010|K5339      |    |MR_SA_PSD24A 5H        |GRWTH                |DE      |DRILLING - EXPLORATORY|N             |           |CRTD PREL BUDG|APRV       |9999  |EXPLORATION       |FUNK, JUSTIN       |USEXPL|COO_NODE|   2,499,419.00 |   102,976.06 |            0.00 |            0.00 |            0.00 |            0.00 |            0.00 |            0.00 |           0.00 |            0.00 |           0.00 |            0.00 |           0.00 |            0.00 |           0.00 |            0.00 |           0.00 |            0.00 |           0.00 |            0.00 |           0.00 |            0.00 |           0.00 |      105,583.11 |     105,583.11 |           23.64 |     105,606.75 |            0.77 |     105,607.52 |      105,607.52 |   105,607.52 |   105,607.52 |       2,631 |102.56 |2018     |          |          |11/30/2018  |09/19/2018  |09/19/2018  |           |          |          |           |                  |            |              |           |\\n',\n",
       " '|2142370|MR_CF_MG 2H       |0772|1K320200   |P000000010|K3202      |    |MR_CF_MG 2H            |GRWTH                |DE      |DRILLING - EXPLORATORY|O             |           |CRTD PREL BUDG|APRV       |9999  |EXPLORATION       |FUNK, JUSTIN       |USEXPL|COO_NODE|     350,000.00 |   350,000.00 |            0.00 |            0.00 |            0.00 |            0.00 |            0.00 |            0.00 |           0.00 |       10,810.00 |      10,810.00 |       51,045.00 |      61,855.00 |        2,050.00 |      63,905.00 |       41,551.58 |     105,456.58 |       11,522.78 |     116,979.36 |       11,281.31 |     128,260.67 |          675.00 |     128,935.67 |        2,250.00 |     131,185.67 |        2,295.00 |     133,480.67 |          760.94 |     134,241.61 |      134,241.61 |   134,241.61 |   134,241.61 |           0 | 38.35 |2018     |          |          |11/30/2018  |01/31/2018  |01/31/2018  |           |          |          |           |                  |     X      |              |           |\\n',\n",
       " '|2141500|BLANTON A-29      |0772|1K263400   |P000000010|K2634      |    |BLANTON A-29           |GRWTH                |DE      |DRILLING - EXPLORATORY|O             |           |CRTD PREL BUDG|APRV       |9999  |EXPLORATION       |FARRIS, DEBORAH    |USEXPL|COO_NODE|     325,000.00 |   325,000.00 |            0.00 |            0.00 |            0.00 |       19,687.50 |       19,687.50 |            0.00 |      19,687.50 |            0.00 |      19,687.50 |            0.00 |      19,687.50 |            0.00 |      19,687.50 |            0.00 |      19,687.50 |            0.00 |      19,687.50 |            0.00 |      19,687.50 |            0.00 |      19,687.50 |            0.00 |      19,687.50 |            0.00 |      19,687.50 |            0.00 |      19,687.50 |            0.00 |    19,687.50 |    19,687.50 |           0 |  6.06 |2017     |          |          |12/31/2017  |12/19/2017  |12/19/2017  |           |          |          |     X     |                  |     X      |              |           |\\n',\n",
       " '|2141499|BULLEIT A-27      |0772|1K263500   |P000000010|K2635      |    |BULLEIT A-27           |GRWTH                |DE      |DRILLING - EXPLORATORY|O             |           |CRTD PREL BUDG|APRV       |9999  |EXPLORATION       |FARRIS, DEBORAH    |USEXPL|COO_NODE|     325,000.00 |   325,000.00 |            0.00 |            0.00 |            0.00 |       11,890.00 |       11,890.00 |            0.00 |      11,890.00 |            0.00 |      11,890.00 |            0.00 |      11,890.00 |            0.00 |      11,890.00 |            0.00 |      11,890.00 |            0.00 |      11,890.00 |            0.00 |      11,890.00 |            0.00 |      11,890.00 |            0.00 |      11,890.00 |            0.00 |      11,890.00 |            0.00 |      11,890.00 |            0.00 |    11,890.00 |    11,890.00 |           0 |  3.66 |2017     |          |          |12/31/2017  |12/19/2017  |12/19/2017  |           |          |          |     X     |                  |     X      |              |           |\\n',\n",
       " '|2141498|BUFFALO TRACE A-29|0772|1K263600   |P000000010|K2636      |    |BUFFALO TRACE A-29     |GRWTH                |DE      |DRILLING - EXPLORATORY|O             |           |CRTD PREL BUDG|APRV       |9999  |EXPLORATION       |FARRIS, DEBORAH    |USEXPL|COO_NODE|     325,000.00 |   325,000.00 |            0.00 |            0.00 |            0.00 |       69,382.38 |       69,382.38 |            0.00 |      69,382.38 |            0.00 |      69,382.38 |            0.00 |      69,382.38 |            0.00 |      69,382.38 |            0.00 |      69,382.38 |            0.00 |      69,382.38 |            0.00 |      69,382.38 |            0.00 |      69,382.38 |            0.00 |      69,382.38 |            0.00 |      69,382.38 |            0.00 |      69,382.38 |            0.00 |    69,382.38 |    69,382.38 |           0 | 21.35 |2017     |          |          |12/31/2017  |12/19/2017  |12/19/2017  |           |          |          |     X     |                  |     X      |              |           |\\n',\n",
       " '|2141497|P VAN WINKLE A-28 |0772|1K263700   |P000000010|K2637      |    |P VAN WINKLE A-28      |GRWTH                |DE      |DRILLING - EXPLORATORY|O             |           |CRTD PREL BUDG|APRV       |9999  |EXPLORATION       |FARRIS, DEBORAH    |USEXPL|COO_NODE|     325,000.00 |   325,000.00 |            0.00 |            0.00 |            0.00 |       85,439.41 |       85,439.41 |            0.00 |      85,439.41 |            0.00 |      85,439.41 |            0.00 |      85,439.41 |            0.00 |      85,439.41 |            0.00 |      85,439.41 |            0.00 |      85,439.41 |            0.00 |      85,439.41 |            0.00 |      85,439.41 |            0.00 |      85,439.41 |            0.00 |      85,439.41 |            0.00 |      85,439.41 |            0.00 |    85,439.41 |    85,439.41 |           0 | 26.29 |2017     |          |          |12/31/2017  |12/19/2017  |12/19/2017  |           |          |          |     X     |                  |     X      |              |           |\\n',\n",
       " '|2141496|WHISTLEPIG A-29   |0772|1K263800   |P000000010|K2638      |    |WHISTLEPIG A-29        |GRWTH                |DE      |DRILLING - EXPLORATORY|O             |           |CRTD PREL BUDG|APRV       |9999  |EXPLORATION       |FARRIS, DEBORAH    |USEXPL|COO_NODE|     325,000.00 |   325,000.00 |            0.00 |            0.00 |            0.00 |       13,382.50 |       13,382.50 |            0.00 |      13,382.50 |            0.00 |      13,382.50 |            0.00 |      13,382.50 |            0.00 |      13,382.50 |            0.00 |      13,382.50 |            0.00 |      13,382.50 |            0.00 |      13,382.50 |            0.00 |      13,382.50 |            0.00 |      13,382.50 |            0.00 |      13,382.50 |            0.00 |      13,382.50 |            0.00 |    13,382.50 |    13,382.50 |           0 |  4.12 |2017     |          |          |12/31/2017  |12/19/2017  |12/19/2017  |           |          |          |     X     |                  |     X      |              |           |\\n',\n",
       " '|2141495|WILLET A-27       |0772|1K263900   |P000000010|K2639      |    |WILLET A-27            |GRWTH                |DE      |DRILLING - EXPLORATORY|O             |           |CRTD PREL BUDG|APRV       |9999  |EXPLORATION       |FARRIS, DEBORAH    |USEXPL|COO_NODE|     325,000.00 |   325,000.00 |            0.00 |            0.00 |            0.00 |       26,070.00 |       26,070.00 |            0.00 |      26,070.00 |       15,040.00 |      41,110.00 |            0.00 |      41,110.00 |            0.00 |      41,110.00 |            0.00 |      41,110.00 |            0.00 |      41,110.00 |            0.00 |      41,110.00 |            0.00 |      41,110.00 |            0.00 |      41,110.00 |            0.00 |      41,110.00 |            0.00 |      41,110.00 |       15,040.00 |    41,110.00 |    41,110.00 |           0 | 12.65 |2017     |          |          |02/28/2018  |12/19/2017  |12/19/2017  |           |          |          |     X     |                  |     X      |              |           |\\n',\n",
       " '|2141257|MR_SA_C 1H        |0772|1K205000   |P000000010|K2050      |    |MR_SA_C 1H             |GRWTH                |DE      |DRILLING - EXPLORATORY|O             |           |CRTD PREL BUDG|APRV       |9999  |EXPLORATION       |KIRK, CARI         |USEXPL|COO_NODE|     325,000.00 |   325,000.00 |            0.00 |            0.00 |            0.00 |       41,000.00 |       41,000.00 |            0.00 |      41,000.00 |          133.47-|      40,866.53 |       12,000.00 |      52,866.53 |        2,448.83 |      55,315.36 |            0.00 |      55,315.36 |            0.00 |      55,315.36 |            0.00 |      55,315.36 |            0.00 |      55,315.36 |            0.00 |      55,315.36 |            0.00 |      55,315.36 |            0.00 |      55,315.36 |       14,315.36 |    55,315.36 |    55,315.36 |           0 | 17.02 |2017     |          |          |04/30/2018  |12/07/2017  |12/07/2017  |           |          |          |     X     |                  |     X      |              |           |\\n',\n",
       " '|2141154|MR_CF_P 1H        |0772|1K202500   |P000000010|K2025      |    |MR_CF_P 1H             |GRWTH                |DE      |DRILLING - EXPLORATORY|O             |           |REL BUDG      |APRV       |9999  |EXPLORATION       |FUNK, JUSTIN       |USEXPL|COO_NODE|  14,146,690.00 |14,146,690.00 |            0.00 |            0.00 |            0.00 |      149,000.00 |      149,000.00 |      123,000.00 |     272,000.00 |       52,803.29 |     324,803.29 |       79,869.79 |     404,673.08 |    2,389,368.34 |   2,794,041.42 |    2,898,367.01 |   5,692,408.43 |    3,181,690.01 |   8,874,098.44 |    1,126,408.89 |  10,000,507.33 |      676,000.00 |  10,676,507.33 |    1,166,598.75 |  11,843,106.08 |    1,408,478.18 |  13,251,584.26 |      268,760.46 |  13,520,344.72 |   13,371,344.72 |13,520,344.72 |13,520,344.72 |           0 | 95.57 |2017     |          |          |11/30/2018  |12/05/2017  |12/05/2017  |           |          |          |           |                  |     X      |              |           |\\n',\n",
       " '|2141153|MR_SA_J 1H        |0772|1K236000   |P000000010|K2360      |    |MR_SA_J 1H             |GRWTH                |DE      |DRILLING - EXPLORATORY|O             |           |REL BUDG      |APRV       |9999  |EXPLORATION       |FUNK, JUSTIN       |USEXPL|COO_NODE|  10,024,616.00 |10,024,616.00 |            0.00 |            0.00 |            0.00 |      407,000.00 |      407,000.00 |       83,000.00 |     490,000.00 |      425,598.75 |     915,598.75 |    1,551,542.99 |   2,467,141.74 |    1,703,144.09 |   4,170,285.83 |    1,299,184.45 |   5,469,470.28 |      843,652.52 |   6,313,122.80 |    1,724,137.33 |   8,037,260.13 |      194,000.00 |   8,231,260.13 |    1,219,254.75 |   9,450,514.88 |    1,071,022.91 |  10,521,537.79 |       63,675.10-|  10,457,862.69 |   10,050,862.69 |10,457,862.69 |10,457,862.69 |     433,247 |104.32 |2017     |          |          |11/30/2018  |12/05/2017  |12/05/2017  |           |          |          |           |                  |     X      |              |           |\\n',\n",
       " '|2141152|MR_WA_P 3H        |0772|1K211000   |P000000010|K2110      |    |MR_WA_P 3H             |GRWTH                |DE      |DRILLING - EXPLORATORY|O             |           |REL BUDG      |APRV       |9999  |EXPLORATION       |FUNK, JUSTIN       |USEXPL|COO_NODE|   6,578,089.00 | 6,578,089.00 |            0.00 |            0.00 |            0.00 |      149,000.00 |      149,000.00 |      123,000.00 |     272,000.00 |       52,803.26 |     324,803.26 |       79,819.79 |     404,623.05 |       87,014.66 |     491,637.71 |      330,910.38 |     822,548.09 |      139,954.57 |     962,502.66 |      291,697.03 |   1,254,199.69 |            0.00 |   1,254,199.69 |          592.63 |   1,254,792.32 |    1,196,747.88-|      58,044.44 |            0.00 |      58,044.44 |       90,955.56-|    58,044.44 |    58,044.44 |           0 |  0.88 |2017     |          |          |10/31/2018  |12/05/2017  |12/05/2017  |           |          |          |           |                  |     X      |              |           |\\n',\n",
       " '|2141151|MR_SA_P 2H        |0772|1K203100   |P000000010|K2031      |    |MR_SA_P 2H             |GRWTH                |DE      |DRILLING - EXPLORATORY|O             |           |REL BUDG      |APRV       |9999  |EXPLORATION       |FUNK, JUSTIN       |USEXPL|COO_NODE|   8,733,227.00 | 8,733,227.00 |            0.00 |            0.00 |            0.00 |      149,000.00 |      149,000.00 |      123,000.00 |     272,000.00 |       52,803.28 |     324,803.28 |       79,919.79 |     404,723.07 |       80,783.72 |     485,506.79 |      585,854.85 |   1,071,361.64 |      898,497.37 |   1,969,859.01 |    2,673,965.01 |   4,643,824.02 |    1,252,485.86 |   5,896,309.88 |    1,116,779.00 |   7,013,088.88 |    3,229,494.29 |  10,242,583.17 |      169,430.31 |  10,412,013.48 |   10,263,013.48 |10,412,013.48 |10,412,013.48 |   1,678,786 |119.22 |2017     |          |          |11/30/2018  |12/05/2017  |12/05/2017  |           |          |          |           |                  |     X      |              |           |\\n',\n",
       " '|2141150|MR_SA_M4 2H       |0772|1K229500   |P000000010|K2295      |    |MR_SA_M4 2H            |GRWTH                |DE      |DRILLING - EXPLORATORY|O             |           |REL BUDG      |APRV       |9999  |EXPLORATION       |FUNK, JUSTIN       |USEXPL|COO_NODE|  10,995,104.00 |10,995,104.00 |            0.00 |            0.00 |            0.00 |      414,000.00 |      414,000.00 |      222,000.00 |     636,000.00 |    1,566,719.85 |   2,202,719.85 |    1,847,609.93 |   4,050,329.78 |    2,874,320.07 |   6,924,649.85 |      420,400.52 |   7,345,050.37 |      336,940.98 |   7,681,991.35 |    1,646,374.03 |   9,328,365.38 |      358,754.49 |   9,687,119.87 |    1,003,281.46 |  10,690,401.33 |      170,523.56 |  10,860,924.89 |        4,567.13-|  10,856,357.76 |   10,442,357.76 |10,856,357.76 |10,856,357.76 |           0 | 98.74 |2017     |          |          |11/30/2018  |12/05/2017  |12/05/2017  |           |          |          |           |                  |     X      |              |           |\\n',\n",
       " '|2141149|MR_WA_J193929 3H  |0772|1K239400   |P000000010|K2394      |    |MR_WA_J193929 3H       |GRWTH                |DE      |DRILLING - EXPLORATORY|O             |           |REL BUDG      |APRV       |9999  |EXPLORATION       |FUNK, JUSTIN       |USEXPL|COO_NODE|  21,322,226.00 |21,322,226.00 |            0.00 |            0.00 |            0.00 |    2,418,000.00 |    2,418,000.00 |    3,130,146.22 |   5,548,146.22 |    4,171,530.45 |   9,719,676.67 |    3,900,934.34 |  13,620,611.01 |    5,201,257.50 |  18,821,868.51 |      379,471.29 |  19,201,339.80 |      466,764.15 |  19,668,103.95 |    1,619,217.13 |  21,287,321.08 |      229,675.00 |  21,516,996.08 |      295,751.27 |  21,812,747.35 |      324,941.76 |  22,137,689.11 |      108,160.45-|  22,029,528.66 |   19,611,528.66 |22,029,528.66 |22,029,528.66 |     707,303 |103.32 |2017     |          |          |11/30/2018  |12/05/2017  |12/05/2017  |           |          |          |           |                  |     X      |              |           |\\n',\n",
       " '------------------------------------------------------------------------------------------------------------------------------------------------------------------------------------------------------------------------------------------------------------------------------------------------------------------------------------------------------------------------------------------------------------------------------------------------------------------------------------------------------------------------------------------------------------------------------------------------------------------------------------------------------------------------------------------------------------------------------------------------------------------------------------------------------------------------------------------------------------------------------------------------------------------------------------------------------------------------------------------------------------------------------------------------------------\\n']"
      ]
     },
     "execution_count": 7,
     "metadata": {},
     "output_type": "execute_result"
    }
   ],
   "source": [
    "lines"
   ]
  },
  {
   "cell_type": "code",
   "execution_count": 10,
   "metadata": {},
   "outputs": [
    {
     "name": "stdout",
     "output_type": "stream",
     "text": [
      "0\n",
      "0\n",
      "68\n",
      "1\n",
      "68\n",
      "68\n",
      "68\n",
      "68\n",
      "68\n",
      "68\n",
      "68\n",
      "68\n",
      "68\n",
      "68\n",
      "68\n",
      "68\n",
      "68\n",
      "68\n",
      "68\n",
      "68\n",
      "0\n"
     ]
    }
   ],
   "source": [
    "data = []\n",
    "for x in lines:\n",
    "    l = pattern.findall(x)\n",
    "    print(len(l))\n",
    "    data.append(l)\n",
    "    "
   ]
  },
  {
   "cell_type": "code",
   "execution_count": 67,
   "metadata": {},
   "outputs": [
    {
     "data": {
      "text/plain": [
       "[[],\n",
       " [],\n",
       " ['AFE    ',\n",
       "  'AFE Description                         ',\n",
       "  'Comp',\n",
       "  'Cost Center',\n",
       "  'Profit Ctr',\n",
       "  'WINs Well #',\n",
       "  'Cmpl',\n",
       "  'Cost Center Description                 ',\n",
       "  'CC Hier - Asset Group',\n",
       "  'AFE Type',\n",
       "  'AFE Type                               ',\n",
       "  'Operated/NonOp',\n",
       "  'WINs Status                                  ',\n",
       "  'System Status ',\n",
       "  'User Status',\n",
       "  'Fin DU',\n",
       "  'Fin DU Description  ',\n",
       "  'AFE Project Manager',\n",
       "  'Region    ',\n",
       "  'Segment ',\n",
       "  'Gross Authorized',\n",
       "  ' Net Authorized',\n",
       "  'Balance Thru 2015',\n",
       "  'Activity for 2016',\n",
       "  'Balance Thru 2016',\n",
       "  'Activity for 2017',\n",
       "  'Balance Thru 2017',\n",
       "  'JAN 2018 Activity',\n",
       "  'JAN 2018 Balance',\n",
       "  'FEB 2018 Activity',\n",
       "  'FEB 2018 Balance',\n",
       "  'MAR 2018 Activity',\n",
       "  'MAR 2018 Balance',\n",
       "  'APR 2018 Activity',\n",
       "  'APR 2018 Balance',\n",
       "  'MAY 2018 Activity',\n",
       "  'MAY 2018 Balance',\n",
       "  'JUN 2018 Activity',\n",
       "  'JUN 2018 Balance',\n",
       "  'JUL 2018 Activity',\n",
       "  'JUL 2018 Balance',\n",
       "  'AUG 2018 Activity',\n",
       "  'AUG 2018 Balance',\n",
       "  'SEP 2018 Activity',\n",
       "  'SEP 2018 Balance',\n",
       "  'OCT 2018 Activity',\n",
       "  'OCT 2018 Balance',\n",
       "  'NOV 2018 Activity',\n",
       "  'NOV 2018 Balance',\n",
       "  'YTD 2018 Activity',\n",
       "  '    AUC Balance',\n",
       "  '    ITD Balance',\n",
       "  '   Over Spent',\n",
       "  '    % Spent',\n",
       "  'Budget Yr',\n",
       "  'Spud Date ',\n",
       "  'Cmpl Date ',\n",
       "  'Last Posting',\n",
       "  'Created Date',\n",
       "  'Approval Dte'],\n",
       " ['1st Oil Dt',\n",
       "  '1st Gas Dt',\n",
       "  'No Act 6 Mo',\n",
       "  'Dev Drl No Act 3Mo',\n",
       "  'Created>6 Mo',\n",
       "  'Expl Last Updt'],\n",
       " []]"
      ]
     },
     "execution_count": 67,
     "metadata": {},
     "output_type": "execute_result"
    }
   ],
   "source": [
    "data[:5]"
   ]
  },
  {
   "cell_type": "code",
   "execution_count": null,
   "metadata": {},
   "outputs": [],
   "source": [
    "\n",
    "\n",
    "\n",
    "\n",
    "#Works on file 3 and file 1\n",
    "\n",
    "f = open(r\"C:\\Users\\hwe334\\OneDrive - Anadarko\\Python Scripts\\data\\headerwrap\\file_3.txt\", 'r')\n",
    "currentline = \"\"\n",
    "linelist = []\n",
    "for line in f:\n",
    "    if line.startswith('|'):\n",
    "        currentline = line\n",
    "        next\n",
    "    elif line.startswith(' '):\n",
    "        fullline = currentline.strip('\\n') + line.strip('\\n')\n",
    "        linelist.append(fullline.strip('\\n').strip('-').split('|'))\n",
    "        currentline = \"\"\n",
    "        fullline = \"\"\n",
    "        next\n",
    "    else:\n",
    "        next\n",
    "\n",
    "f.close()\n",
    "\n",
    "with open(r\"C:\\Users\\hwe334\\OneDrive - Anadarko\\Python Scripts\\data\\headerwrap\\file_3.txt\") as myfile:\n",
    "    head = list(islice(myfile, 2,4))\n",
    "\n",
    "header = head[0].strip('\\n') + head[1].strip('\\n')\n",
    "header = header.split('|')\n",
    "header.pop(0)\n",
    "\n",
    "df = pd.DataFrame(linelist)\n",
    "df = df.drop([0,69], axis=1)\n",
    "df.columns = header"
   ]
  },
  {
   "cell_type": "code",
   "execution_count": null,
   "metadata": {},
   "outputs": [],
   "source": [
    "f = open(r\"C:\\Users\\hwe334\\OneDrive - Anadarko\\Python Scripts\\data\\headerwrap\\example_2.txt\", 'r')\n",
    "currentline = \"\"\n",
    "linelist = []\n",
    "for line in f:\n",
    "    if line.startswith('|'):\n",
    "        currentline = line\n",
    "        next\n",
    "        \n",
    "    else:\n",
    "        fullline = currentline.strip('\\n') + line.strip('\\n')\n",
    "        linelist.append(fullline.strip('\\n').strip('-').split('|'))\n",
    "        currentline = \"\"\n",
    "        fullline = \"\"\n",
    "        next\n",
    "\n",
    "f.close()\n",
    "\n",
    "with open(r\"C:\\Users\\hwe334\\OneDrive - Anadarko\\Python Scripts\\data\\headerwrap\\file_3.txt\") as myfile:\n",
    "    head = list(islice(myfile, 2,4))\n",
    "\n",
    "header = head[0].strip('\\n') + head[1].strip('\\n')\n",
    "header = header.split('|')\n",
    "header.pop(0)\n",
    "\n",
    "df = pd.DataFrame(linelist)\n",
    "#df = df.drop([0,69], axis=1)\n",
    "#df.columns = header"
   ]
  },
  {
   "cell_type": "code",
   "execution_count": null,
   "metadata": {},
   "outputs": [],
   "source": [
    "f = open(r\"C:\\Users\\hwe334\\OneDrive - Anadarko\\Python Scripts\\data\\headerwrap\\example_2.txt\", 'r')\n",
    "for line in f:\n",
    "    append line\n",
    "f.close()"
   ]
  },
  {
   "cell_type": "code",
   "execution_count": null,
   "metadata": {},
   "outputs": [],
   "source": [
    "lines"
   ]
  },
  {
   "cell_type": "code",
   "execution_count": null,
   "metadata": {},
   "outputs": [],
   "source": [
    "df = df[df.CoCd != \"Table\"]\n",
    "df = df[df.CoCd != \"Number\"]\n",
    "df = df[df.CoCd != \"Maximum\"]\n",
    "df = df[df.CoCd != \"Runtime\"]\n",
    "df = df[df.CoCd != \"CoCd\"]"
   ]
  },
  {
   "cell_type": "code",
   "execution_count": null,
   "metadata": {},
   "outputs": [],
   "source": [
    "df.columns = ['CoCd', 'DocumentNo', 'Year', 'Type', 'Doc.Date', 'Pstng Date', 'Period', 'Year',' ', '']"
   ]
  },
  {
   "cell_type": "code",
   "execution_count": null,
   "metadata": {},
   "outputs": [],
   "source": [
    "df7 = df[df.Period == \"7\"]\n",
    "df8 = df[df.Period == \"8\"]\n",
    "df9 = df[df.Period == \"9\"]"
   ]
  },
  {
   "cell_type": "code",
   "execution_count": null,
   "metadata": {},
   "outputs": [],
   "source": [
    "np.max(df.DocumentNo)"
   ]
  },
  {
   "cell_type": "code",
   "execution_count": null,
   "metadata": {},
   "outputs": [],
   "source": [
    "print(df7['DocumentNo'].nunique())\n",
    "print(df8['DocumentNo'].nunique())\n",
    "print(df9['DocumentNo'].nunique())"
   ]
  },
  {
   "cell_type": "code",
   "execution_count": null,
   "metadata": {},
   "outputs": [],
   "source": [
    "with open(r\"C:\\Users\\hwe334\\OneDrive - Anadarko\\Python Scripts\\data\\headerwrap\\file_3.txt\") as myfile:\n",
    "    head = list(islice(myfile, 0,4))\n",
    "    print(pattern.findall(head))"
   ]
  },
  {
   "cell_type": "code",
   "execution_count": null,
   "metadata": {},
   "outputs": [],
   "source": [
    "no1 = df7['DocumentNo'].nunique()\n",
    "no2 = df8['DocumentNo'].nunique()\n",
    "no3 = df9['DocumentNo'].nunique()\n"
   ]
  },
  {
   "cell_type": "code",
   "execution_count": null,
   "metadata": {},
   "outputs": [],
   "source": [
    "sum([no1,no2,no3])"
   ]
  },
  {
   "cell_type": "code",
   "execution_count": null,
   "metadata": {},
   "outputs": [],
   "source": [
    "DN, count = np.unique(df.DocumentNo, return_counts=True)"
   ]
  },
  {
   "cell_type": "code",
   "execution_count": null,
   "metadata": {
    "scrolled": false
   },
   "outputs": [],
   "source": [
    "d2 = pd.DataFrame({'x': DN, 'Y':count})"
   ]
  },
  {
   "cell_type": "code",
   "execution_count": null,
   "metadata": {},
   "outputs": [],
   "source": [
    "d2.sort_values('Y', ascending=False)"
   ]
  },
  {
   "cell_type": "code",
   "execution_count": null,
   "metadata": {},
   "outputs": [],
   "source": [
    "df[df.DocumentNo == '100000200']"
   ]
  },
  {
   "cell_type": "code",
   "execution_count": null,
   "metadata": {},
   "outputs": [],
   "source": []
  }
 ],
 "metadata": {
  "kernelspec": {
   "display_name": "Python 3",
   "language": "python",
   "name": "python3"
  },
  "language_info": {
   "codemirror_mode": {
    "name": "ipython",
    "version": 3
   },
   "file_extension": ".py",
   "mimetype": "text/x-python",
   "name": "python",
   "nbconvert_exporter": "python",
   "pygments_lexer": "ipython3",
   "version": "3.7.0"
  }
 },
 "nbformat": 4,
 "nbformat_minor": 2
}
